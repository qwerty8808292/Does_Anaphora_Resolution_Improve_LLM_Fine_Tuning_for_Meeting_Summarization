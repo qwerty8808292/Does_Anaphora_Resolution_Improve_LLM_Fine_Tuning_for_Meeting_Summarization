{
 "cells": [
  {
   "cell_type": "code",
   "execution_count": 1,
   "id": "00838f3c",
   "metadata": {},
   "outputs": [],
   "source": [
    "from mars import MARS\n"
   ]
  },
  {
   "cell_type": "code",
   "execution_count": 2,
   "id": "72671b79",
   "metadata": {},
   "outputs": [
    {
     "name": "stdout",
     "output_type": "stream",
     "text": [
      "Anaphor: their -> Antecedent: batteries\n",
      "Anaphor: it -> Antecedent: the battery\n",
      "Do not touch the battery terminals with metal objects such as paper clips or keychains. Doing so can cause burns or start a fire. Carry batteries only within the printer or within batteries original packaging. Leave the battery inside the printer until you need to charge or replace the battery.\n"
     ]
    }
   ],
   "source": [
    "mars1 = MARS()  \n",
    "text1 = \"\"\"Do not touch the battery terminals with metal objects such as paper clips or keychains. Doing so can cause burns or start a fire. Carry batteries only within the printer or within their original packaging. Leave the battery inside the printer until you need to charge or replace it.\"\"\"\n",
    "antecedents1 = mars1.resolve(text1)\n",
    "for anaphor, antecedent in antecedents1.items():\n",
    "    print(f\"Anaphor: {anaphor.text} -> Antecedent: {antecedent.text if antecedent else 'None'}\")\n",
    "print(mars1.replace(text1))\n"
   ]
  },
  {
   "cell_type": "code",
   "execution_count": 3,
   "id": "fc823825",
   "metadata": {},
   "outputs": [
    {
     "name": "stdout",
     "output_type": "stream",
     "text": [
      "Anaphor: It -> Antecedent: The laptop\n",
      "The laptop is overheating. The laptop should be turned off immediately.\n"
     ]
    }
   ],
   "source": [
    "mars2 = MARS()  \n",
    "text2 = \"\"\"The laptop is overheating. It should be turned off immediately.\"\"\"\n",
    "antecedents2 = mars2.resolve(text2)\n",
    "for anaphor, antecedent in antecedents2.items():\n",
    "    print(f\"Anaphor: {anaphor.text} -> Antecedent: {antecedent.text if antecedent else 'None'}\")\n",
    "print(mars2.replace(text2))\n"
   ]
  },
  {
   "cell_type": "code",
   "execution_count": 4,
   "id": "6b7cf906",
   "metadata": {},
   "outputs": [
    {
     "name": "stdout",
     "output_type": "stream",
     "text": [
      "Anaphor: It -> Antecedent: The printer head\n",
      "The printer head was clogged. The printer head needed cleaning.\n"
     ]
    }
   ],
   "source": [
    "mars3 = MARS()\n",
    "text3 = \"\"\"The printer head was clogged. It needed cleaning.\"\"\"\n",
    "antecedents3 = mars3.resolve(text3)\n",
    "for anaphor, antecedent in antecedents3.items():\n",
    "    print(f\"Anaphor: {anaphor.text} -> Antecedent: {antecedent.text if antecedent else 'None'}\")\n",
    "print(mars3.replace(text3))\n"
   ]
  },
  {
   "cell_type": "code",
   "execution_count": 5,
   "id": "d671fbdb",
   "metadata": {},
   "outputs": [
    {
     "name": "stdout",
     "output_type": "stream",
     "text": [
      "Anaphor: It -> Antecedent: The battery charger\n",
      "The battery charger is defective. The battery charger must be replaced before use.\n"
     ]
    }
   ],
   "source": [
    "mars4 = MARS()\n",
    "text4 = \"\"\"The battery charger is defective. It must be replaced before use.\"\"\"\n",
    "antecedents4 = mars4.resolve(text4)\n",
    "for anaphor, antecedent in antecedents4.items():\n",
    "    print(f\"Anaphor: {anaphor.text} -> Antecedent: {antecedent.text if antecedent else 'None'}\")\n",
    "print(mars4.replace(text4))\n"
   ]
  }
 ],
 "metadata": {
  "kernelspec": {
   "display_name": "spacyEnv",
   "language": "python",
   "name": "python3"
  },
  "language_info": {
   "codemirror_mode": {
    "name": "ipython",
    "version": 3
   },
   "file_extension": ".py",
   "mimetype": "text/x-python",
   "name": "python",
   "nbconvert_exporter": "python",
   "pygments_lexer": "ipython3",
   "version": "3.10.16"
  }
 },
 "nbformat": 4,
 "nbformat_minor": 5
}
