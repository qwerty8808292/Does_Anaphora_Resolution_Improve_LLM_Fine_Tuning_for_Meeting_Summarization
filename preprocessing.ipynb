{
  "cells": [
    {
      "cell_type": "code",
      "execution_count": null,
      "metadata": {
        "id": "uBq5kElrixcr"
      },
      "outputs": [],
      "source": [
        "import random\n",
        "import torch\n",
        "import numpy as np\n",
        "from datasets import load_dataset\n",
        "from mars import MARS\n",
        "import warnings\n",
        "warnings.filterwarnings(\"ignore\", category=UserWarning)\n"
      ]
    },
    {
      "cell_type": "code",
      "execution_count": null,
      "metadata": {
        "id": "xHfeCPSIjkaG"
      },
      "outputs": [],
      "source": [
        "seed = 413\n",
        "random.seed(seed)\n",
        "np.random.seed(seed)\n",
        "torch.manual_seed(seed)\n",
        "torch.cuda.manual_seed_all(seed)\n"
      ]
    },
    {
      "cell_type": "code",
      "execution_count": null,
      "metadata": {
        "id": "HjjT62gQjP5O"
      },
      "outputs": [],
      "source": [
        "dataset = load_dataset(\"samsum\", trust_remote_code=True)\n",
        "mars = MARS()\n"
      ]
    },
    {
      "cell_type": "code",
      "execution_count": null,
      "metadata": {
        "id": "kLy_eUHKjQbG"
      },
      "outputs": [],
      "source": [
        "def anaphora_resolution(batch):\n",
        "    resolved_texts = []\n",
        "    for dialogue in batch[\"dialogue\"]:\n",
        "        resolved_text = mars.replace(dialogue)\n",
        "        resolved_texts.append(resolved_text)\n",
        "    return {\"resolved_text\": resolved_texts}\n"
      ]
    },
    {
      "cell_type": "code",
      "execution_count": null,
      "metadata": {
        "id": "f4AWnWRzj1y8"
      },
      "outputs": [],
      "source": [
        "dataset = dataset.map(anaphora_resolution, batched=True, batch_size=32, num_proc=2)\n"
      ]
    },
    {
      "cell_type": "code",
      "execution_count": null,
      "metadata": {
        "id": "8RF5MioRj5UV"
      },
      "outputs": [],
      "source": [
        "dataset.save_to_disk(\"samsum_new\")\n"
      ]
    }
  ],
  "metadata": {
    "colab": {
      "provenance": []
    },
    "kernelspec": {
      "display_name": "Python 3",
      "name": "python3"
    },
    "language_info": {
      "name": "python"
    }
  },
  "nbformat": 4,
  "nbformat_minor": 0
}
